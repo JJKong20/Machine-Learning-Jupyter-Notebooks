{
 "cells": [
  {
   "cell_type": "code",
   "execution_count": 1,
   "id": "2a043fbf",
   "metadata": {},
   "outputs": [],
   "source": [
    "import pandas as pd\n",
    "import numpy as np"
   ]
  },
  {
   "cell_type": "code",
   "execution_count": 2,
   "id": "2ee84ff2",
   "metadata": {},
   "outputs": [
    {
     "name": "stderr",
     "output_type": "stream",
     "text": [
      "C:\\Users\\kongj\\AppData\\Local\\Temp\\ipykernel_24052\\3764687825.py:21: FutureWarning: The frame.append method is deprecated and will be removed from pandas in a future version. Use pandas.concat instead.\n",
      "  full = all_data.append(test_data)\n"
     ]
    }
   ],
   "source": [
    "# preprocess data\n",
    "classes = []\n",
    "classes.extend(range(0,57))\n",
    "classes.append(\"target\")\n",
    "\n",
    "with open('./spambase.train', 'r') as f:\n",
    "    data = f.readlines()\n",
    "train = []\n",
    "for row in data:\n",
    "    train.append([eval(i) for i in row.split(\",\")])\n",
    "train_data = pd.DataFrame(train, columns = classes)\n",
    "all_data = train_data.copy(deep=True)\n",
    "\n",
    "with open('./spambase.test', 'r') as f:\n",
    "    data = f.readlines()\n",
    "test = []\n",
    "for row in data:\n",
    "    test.append([eval(i) for i in row.split(\",\")])\n",
    "test_data = pd.DataFrame(test, columns = classes)\n",
    "\n",
    "full = all_data.append(test_data)\n",
    "\n",
    "for i in range(0, 57):\n",
    "    \n",
    "    train_data.loc[train_data[i] < full[i].median(), i] = 1\n",
    "    train_data.loc[train_data[i] >= full[i].median(), i] = 2\n",
    "    test_data.loc[test_data[i] < full[i].median(), i] = 1\n",
    "    test_data.loc[test_data[i] >= full[i].median(), i] = 2"
   ]
  },
  {
   "cell_type": "code",
   "execution_count": 3,
   "id": "ced64c4a",
   "metadata": {},
   "outputs": [],
   "source": [
    "# probability of spam\n",
    "spam = 0\n",
    "for value in train_data[\"target\"]:\n",
    "    if value == 1:\n",
    "        spam = spam + 1\n",
    "\n",
    "probSpam = spam/len(train_data[\"target\"])"
   ]
  },
  {
   "cell_type": "code",
   "execution_count": 4,
   "id": "85a5ec17",
   "metadata": {},
   "outputs": [],
   "source": [
    "# calculate P(X = x | Y = y) for each class x, and spam/not spam y\n",
    "listProbs = []\n",
    "for column in range(57):\n",
    "    oneGivenSpam = 0\n",
    "    oneGivenNotSpam = 0\n",
    "    twoGivenSpam = 0\n",
    "    twoGivenNotSpam = 0\n",
    "    for i in range(0,len(train_data)):\n",
    "        if train_data[column][i] == 1:\n",
    "            if train_data[\"target\"][i] == 1:\n",
    "                oneGivenSpam = oneGivenSpam + 1\n",
    "            else:\n",
    "                oneGivenNotSpam = oneGivenNotSpam + 1\n",
    "        else:\n",
    "            if train_data[\"target\"][i] == 1:\n",
    "                twoGivenSpam = twoGivenSpam + 1\n",
    "            else:\n",
    "                twoGivenNotSpam = twoGivenNotSpam + 1\n",
    "                \n",
    "    listProbs.append([oneGivenSpam/spam, twoGivenSpam/spam, oneGivenNotSpam/(2000-spam), twoGivenNotSpam/(2000-spam)])\n",
    "    \n",
    "# listProbs = list of probabilities for each class"
   ]
  },
  {
   "cell_type": "code",
   "execution_count": 5,
   "id": "2c649d44",
   "metadata": {},
   "outputs": [],
   "source": [
    "predict = []\n",
    "# predict each row of test whether it is spam or not\n",
    "for i in range(0, len(test_data)):\n",
    "    # multiply P(Y = y) with product of P(X = x | Y = y) to get P(Y = y | X = x)\n",
    "    probSpam = spam/len(train_data[\"target\"])\n",
    "    probNotSpam = 1 - probSpam\n",
    "    for j in range(0, 57):\n",
    "        if test_data.iloc[i][j] == 1:\n",
    "            \n",
    "            probSpam = probSpam * listProbs[j][0]\n",
    "            probNotSpam = probNotSpam * listProbs[j][2]\n",
    "            \n",
    "        else:\n",
    "            \n",
    "            probSpam = probSpam * listProbs[j][1]\n",
    "            probNotSpam = probNotSpam * listProbs[j][3]\n",
    "    # if P(Y = 'spam' | X = x) > P(Y = 'not spam' | X = x), predict spam\n",
    "    if (probSpam > probNotSpam):\n",
    "        \n",
    "        predict.append(1)\n",
    "        \n",
    "    else:\n",
    "        \n",
    "        predict.append(0)\n",
    "        "
   ]
  },
  {
   "cell_type": "code",
   "execution_count": 6,
   "id": "f8b97c7c",
   "metadata": {},
   "outputs": [
    {
     "name": "stdout",
     "output_type": "stream",
     "text": [
      "Test Error: \n",
      "0.261437908496732\n"
     ]
    }
   ],
   "source": [
    "correct = 0\n",
    "for i in range(0, len(predict)):\n",
    "    if predict[i] == test_data.iloc[i][\"target\"]:\n",
    "        correct = correct + 1\n",
    "\n",
    "print(\"Test Error: \")\n",
    "print(1 - (correct/len(test_data)))"
   ]
  },
  {
   "cell_type": "code",
   "execution_count": 7,
   "id": "3d7d91fd",
   "metadata": {},
   "outputs": [
    {
     "name": "stdout",
     "output_type": "stream",
     "text": [
      "Sanity Test Error: \n",
      "0.3856209150326797\n"
     ]
    }
   ],
   "source": [
    "correct = 0\n",
    "for i in range(0, len(predict)):\n",
    "    if test_data.iloc[i][\"target\"] == 0:\n",
    "        correct = correct + 1\n",
    "\n",
    "print(\"Sanity Test Error: \")        \n",
    "print(1 - (correct/len(test_data)))"
   ]
  },
  {
   "cell_type": "code",
   "execution_count": null,
   "id": "119568b6",
   "metadata": {},
   "outputs": [],
   "source": []
  }
 ],
 "metadata": {
  "kernelspec": {
   "display_name": "Python 3 (ipykernel)",
   "language": "python",
   "name": "python3"
  },
  "language_info": {
   "codemirror_mode": {
    "name": "ipython",
    "version": 3
   },
   "file_extension": ".py",
   "mimetype": "text/x-python",
   "name": "python",
   "nbconvert_exporter": "python",
   "pygments_lexer": "ipython3",
   "version": "3.10.9"
  }
 },
 "nbformat": 4,
 "nbformat_minor": 5
}
