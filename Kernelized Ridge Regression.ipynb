{
 "cells": [
  {
   "cell_type": "code",
   "execution_count": 12,
   "id": "41dc5c85",
   "metadata": {},
   "outputs": [],
   "source": [
    "import numpy as np\n",
    "import pandas as pd\n",
    "import matplotlib.pyplot as plt \n",
    "import math\n",
    "from sklearn.kernel_ridge import KernelRidge\n",
    "from sklearn.metrics import mean_squared_error"
   ]
  },
  {
   "cell_type": "code",
   "execution_count": 13,
   "id": "dc3c73e6",
   "metadata": {},
   "outputs": [],
   "source": [
    "unnormalized_train_data = pd.read_csv('steel_composition_train.csv')\n",
    "train_data = unnormalized_train_data.apply(lambda x: (x - x.mean()) / x.std())\n",
    "x_train = train_data.drop(['id', 'Strength'], axis=1).values\n",
    "y_train = train_data['Strength']"
   ]
  },
  {
   "cell_type": "code",
   "execution_count": 14,
   "id": "6dcb777d",
   "metadata": {},
   "outputs": [
    {
     "name": "stdout",
     "output_type": "stream",
     "text": [
      "Polynomial kernel degree: 2, RMSE: 0.436\n",
      "Polynomial kernel degree: 3, RMSE: 0.326\n",
      "Polynomial kernel degree: 4, RMSE: 0.276\n"
     ]
    }
   ],
   "source": [
    "\n",
    "for degree in range(2, 5):\n",
    "    model = KernelRidge(alpha=1, kernel='poly', degree=degree)\n",
    "    model.fit(x_train, y_train)\n",
    "    y_train_pred = model.predict(x_train)\n",
    "    rmse_train = np.sqrt(mean_squared_error(y_train, y_train_pred))\n",
    "    print(f'Polynomial kernel degree: {degree}, RMSE: {rmse_train:.3f}')"
   ]
  },
  {
   "cell_type": "code",
   "execution_count": 15,
   "id": "bf160f49",
   "metadata": {},
   "outputs": [
    {
     "name": "stdout",
     "output_type": "stream",
     "text": [
      "Gaussian kernel, RMSE: 0.345\n"
     ]
    }
   ],
   "source": [
    "alpha = 1\n",
    "kernel = 'rbf'\n",
    "gamma = 1\n",
    "model = KernelRidge(alpha=alpha, kernel=kernel, gamma=gamma)\n",
    "model.fit(x_train, y_train)\n",
    "y_train_pred = model.predict(x_train)\n",
    "rmse_train = np.sqrt(mean_squared_error(y_train, y_train_pred))\n",
    "print(f'Gaussian kernel, RMSE: {rmse_train:.3f}')"
   ]
  },
  {
   "cell_type": "code",
   "execution_count": null,
   "id": "e7a39514",
   "metadata": {},
   "outputs": [],
   "source": []
  }
 ],
 "metadata": {
  "kernelspec": {
   "display_name": "Python 3 (ipykernel)",
   "language": "python",
   "name": "python3"
  },
  "language_info": {
   "codemirror_mode": {
    "name": "ipython",
    "version": 3
   },
   "file_extension": ".py",
   "mimetype": "text/x-python",
   "name": "python",
   "nbconvert_exporter": "python",
   "pygments_lexer": "ipython3",
   "version": "3.10.9"
  }
 },
 "nbformat": 4,
 "nbformat_minor": 5
}
